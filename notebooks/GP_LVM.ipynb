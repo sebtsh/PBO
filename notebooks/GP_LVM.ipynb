{
 "cells": [
  {
   "cell_type": "code",
   "execution_count": 1,
   "metadata": {},
   "outputs": [],
   "source": [
    "import gpflow\n",
    "import numpy as np\n",
    "\n",
    "import matplotlib.pyplot as plt\n",
    "import tensorflow as tf\n",
    "\n",
    "import gpflow\n",
    "from gpflow.utilities import ops, print_summary\n",
    "from gpflow.config import set_default_float, default_float, set_default_summary_fmt\n",
    "from gpflow.ci_utils import ci_niter\n",
    "\n",
    "set_default_float(np.float64)\n",
    "set_default_summary_fmt(\"notebook\")\n",
    "\n",
    "%matplotlib inline"
   ]
  },
  {
   "cell_type": "code",
   "execution_count": 3,
   "metadata": {},
   "outputs": [],
   "source": [
    "(xtrain, ytrain), (xtest, ytest) = tf.keras.datasets.mnist.load_data()"
   ]
  },
  {
   "cell_type": "code",
   "execution_count": 11,
   "metadata": {},
   "outputs": [],
   "source": [
    "Y = tf.reshape(tf.convert_to_tensor(xtrain, dtype=default_float()), [xtrain.shape[0], -1])"
   ]
  },
  {
   "cell_type": "code",
   "execution_count": 14,
   "metadata": {},
   "outputs": [],
   "source": [
    "labels = tf.convert_to_tensor(ytrain)"
   ]
  },
  {
   "cell_type": "code",
   "execution_count": 17,
   "metadata": {
    "ExecuteTime": {
     "end_time": "2018-06-19T09:42:12.018601Z",
     "start_time": "2018-06-19T09:41:37.165915Z"
    }
   },
   "outputs": [],
   "source": [
    "latent_dim = 2  # number of latent dimensions\n",
    "num_inducing = 20  # number of inducing pts\n",
    "num_data = Y.shape[0]  # number of data points"
   ]
  },
  {
   "cell_type": "code",
   "execution_count": 18,
   "metadata": {},
   "outputs": [],
   "source": [
    "x_mean_init = tf.convert_to_tensor(ops.pca_reduce(Y, latent_dim), dtype=default_float())\n",
    "x_var_init = tf.convert_to_tensor(np.ones((num_data, latent_dim)), dtype=default_float())"
   ]
  },
  {
   "cell_type": "code",
   "execution_count": 20,
   "metadata": {},
   "outputs": [],
   "source": [
    "inducing_variable = tf.convert_to_tensor(np.random.permutation(x_mean_init.numpy())[:num_inducing], dtype=default_float())"
   ]
  },
  {
   "cell_type": "code",
   "execution_count": 34,
   "metadata": {},
   "outputs": [],
   "source": [
    "lengthscale = tf.convert_to_tensor([10.] * latent_dim, dtype=default_float())\n",
    "kernel = gpflow.kernels.RBF(lengthscale=lengthscale)"
   ]
  },
  {
   "cell_type": "code",
   "execution_count": 35,
   "metadata": {
    "scrolled": true
   },
   "outputs": [
    {
     "data": {
      "text/html": [
       "<table>\n",
       "<thead>\n",
       "<tr><th>name                          </th><th>class    </th><th>transform  </th><th>prior  </th><th>trainable  </th><th>shape  </th><th>dtype  </th><th>value    </th></tr>\n",
       "</thead>\n",
       "<tbody>\n",
       "<tr><td>SquaredExponential.variance   </td><td>Parameter</td><td>Softplus   </td><td>       </td><td>True       </td><td>()     </td><td>float64</td><td>1.0      </td></tr>\n",
       "<tr><td>SquaredExponential.lengthscale</td><td>Parameter</td><td>Softplus   </td><td>       </td><td>True       </td><td>(2,)   </td><td>float64</td><td>[10. 10.]</td></tr>\n",
       "</tbody>\n",
       "</table>"
      ],
      "text/plain": [
       "<IPython.core.display.HTML object>"
      ]
     },
     "metadata": {},
     "output_type": "display_data"
    }
   ],
   "source": [
    "print_summary(kernel)"
   ]
  },
  {
   "cell_type": "code",
   "execution_count": 36,
   "metadata": {},
   "outputs": [],
   "source": [
    "gplvm = gpflow.models.BayesianGPLVM(Y,\n",
    "            x_data_mean=x_mean_init,\n",
    "            x_data_var=x_var_init,\n",
    "            kernel=kernel,\n",
    "            inducing_variable=inducing_variable)\n",
    "# Instead of passing an inducing_variable directly, we can also set the num_inducing_variables argument to an integer, which will randomly pick from the data."
   ]
  },
  {
   "cell_type": "code",
   "execution_count": 37,
   "metadata": {},
   "outputs": [],
   "source": [
    "gplvm.likelihood.variance.assign(0.01)"
   ]
  },
  {
   "cell_type": "code",
   "execution_count": 38,
   "metadata": {
    "scrolled": true
   },
   "outputs": [
    {
     "data": {
      "text/html": [
       "<table>\n",
       "<thead>\n",
       "<tr><th>name                             </th><th>class    </th><th>transform              </th><th>prior  </th><th>trainable  </th><th>shape     </th><th>dtype  </th><th>value                             </th></tr>\n",
       "</thead>\n",
       "<tbody>\n",
       "<tr><td>BayesianGPLVM.kernel.variance    </td><td>Parameter</td><td>Softplus               </td><td>       </td><td>True       </td><td>()        </td><td>float64</td><td>1.0                               </td></tr>\n",
       "<tr><td>BayesianGPLVM.kernel.lengthscale </td><td>Parameter</td><td>Softplus               </td><td>       </td><td>True       </td><td>(2,)      </td><td>float64</td><td>[10. 10.]                         </td></tr>\n",
       "<tr><td>BayesianGPLVM.likelihood.variance</td><td>Parameter</td><td>Softplus + AffineScalar</td><td>       </td><td>True       </td><td>()        </td><td>float64</td><td>0.009999999776482686              </td></tr>\n",
       "<tr><td>BayesianGPLVM.x_data_mean        </td><td>Parameter</td><td>                       </td><td>       </td><td>True       </td><td>(60000, 2)</td><td>float64</td><td>[[-312.67426202, -123.93258866... </td></tr>\n",
       "<tr><td>BayesianGPLVM.x_data_var         </td><td>Parameter</td><td>Softplus               </td><td>       </td><td>True       </td><td>(60000, 2)</td><td>float64</td><td>[[1., 1....                       </td></tr>\n",
       "<tr><td>BayesianGPLVM.inducing_variable.Z</td><td>Parameter</td><td>                       </td><td>       </td><td>True       </td><td>(20, 2)   </td><td>float64</td><td>[[-308.88899704, -1156.12183858...</td></tr>\n",
       "</tbody>\n",
       "</table>"
      ],
      "text/plain": [
       "<IPython.core.display.HTML object>"
      ]
     },
     "metadata": {},
     "output_type": "display_data"
    }
   ],
   "source": [
    "print_summary(gplvm)"
   ]
  },
  {
   "cell_type": "code",
   "execution_count": 39,
   "metadata": {
    "scrolled": false
   },
   "outputs": [
    {
     "name": "stdout",
     "output_type": "stream",
     "text": [
      "Negative log marginal likelihood at step 0: 17054350315386.973\n"
     ]
    },
    {
     "name": "stderr",
     "output_type": "stream",
     "text": [
      "ERROR:root:Internal Python error in the inspect module.\n",
      "Below is the traceback from this internal error.\n",
      "\n"
     ]
    },
    {
     "name": "stdout",
     "output_type": "stream",
     "text": [
      "Traceback (most recent call last):\n",
      "  File \"C:\\Users\\seb\\.conda\\envs\\gpflow\\lib\\site-packages\\IPython\\core\\interactiveshell.py\", line 3319, in run_code\n",
      "    exec(code_obj, self.user_global_ns, self.user_ns)\n",
      "  File \"<ipython-input-39-c59e97494e09>\", line 9, in <module>\n",
      "    optimizer.minimize(optimization_step, var_list=gplvm.trainable_variables)\n",
      "  File \"C:\\Users\\seb\\.conda\\envs\\gpflow\\lib\\site-packages\\tensorflow_core\\python\\keras\\optimizer_v2\\optimizer_v2.py\", line 317, in minimize\n",
      "    loss, var_list=var_list, grad_loss=grad_loss)\n",
      "  File \"C:\\Users\\seb\\.conda\\envs\\gpflow\\lib\\site-packages\\tensorflow_core\\python\\keras\\optimizer_v2\\optimizer_v2.py\", line 356, in _compute_gradients\n",
      "    grads = tape.gradient(loss_value, var_list, grad_loss)\n",
      "  File \"C:\\Users\\seb\\.conda\\envs\\gpflow\\lib\\site-packages\\tensorflow_core\\python\\eager\\backprop.py\", line 1014, in gradient\n",
      "    unconnected_gradients=unconnected_gradients)\n",
      "  File \"C:\\Users\\seb\\.conda\\envs\\gpflow\\lib\\site-packages\\tensorflow_core\\python\\eager\\imperative_grad.py\", line 76, in imperative_grad\n",
      "    compat.as_str(unconnected_gradients.value))\n",
      "  File \"C:\\Users\\seb\\.conda\\envs\\gpflow\\lib\\site-packages\\tensorflow_core\\python\\eager\\function.py\", line 911, in _backward_function_wrapper\n",
      "    processed_args, remapped_captures)\n",
      "  File \"C:\\Users\\seb\\.conda\\envs\\gpflow\\lib\\site-packages\\tensorflow_core\\python\\eager\\function.py\", line 1224, in _call_flat\n",
      "    ctx, args, cancellation_manager=cancellation_manager)\n",
      "  File \"C:\\Users\\seb\\.conda\\envs\\gpflow\\lib\\site-packages\\tensorflow_core\\python\\eager\\function.py\", line 511, in call\n",
      "    ctx=ctx)\n",
      "  File \"C:\\Users\\seb\\.conda\\envs\\gpflow\\lib\\site-packages\\tensorflow_core\\python\\eager\\execute.py\", line 61, in quick_execute\n",
      "    num_outputs)\n",
      "KeyboardInterrupt\n",
      "\n",
      "During handling of the above exception, another exception occurred:\n",
      "\n",
      "Traceback (most recent call last):\n",
      "  File \"C:\\Users\\seb\\.conda\\envs\\gpflow\\lib\\site-packages\\IPython\\core\\interactiveshell.py\", line 2034, in showtraceback\n",
      "    stb = value._render_traceback_()\n",
      "AttributeError: 'KeyboardInterrupt' object has no attribute '_render_traceback_'\n",
      "\n",
      "During handling of the above exception, another exception occurred:\n",
      "\n",
      "Traceback (most recent call last):\n",
      "  File \"C:\\Users\\seb\\.conda\\envs\\gpflow\\lib\\site-packages\\IPython\\core\\ultratb.py\", line 1151, in get_records\n",
      "    return _fixed_getinnerframes(etb, number_of_lines_of_context, tb_offset)\n",
      "  File \"C:\\Users\\seb\\.conda\\envs\\gpflow\\lib\\site-packages\\IPython\\core\\ultratb.py\", line 319, in wrapped\n",
      "    return f(*args, **kwargs)\n",
      "  File \"C:\\Users\\seb\\.conda\\envs\\gpflow\\lib\\site-packages\\IPython\\core\\ultratb.py\", line 353, in _fixed_getinnerframes\n",
      "    records = fix_frame_records_filenames(inspect.getinnerframes(etb, context))\n",
      "  File \"C:\\Users\\seb\\.conda\\envs\\gpflow\\lib\\inspect.py\", line 1490, in getinnerframes\n",
      "    frameinfo = (tb.tb_frame,) + getframeinfo(tb, context)\n",
      "  File \"C:\\Users\\seb\\.conda\\envs\\gpflow\\lib\\inspect.py\", line 1448, in getframeinfo\n",
      "    filename = getsourcefile(frame) or getfile(frame)\n",
      "  File \"C:\\Users\\seb\\.conda\\envs\\gpflow\\lib\\inspect.py\", line 693, in getsourcefile\n",
      "    if os.path.exists(filename):\n",
      "  File \"C:\\Users\\seb\\.conda\\envs\\gpflow\\lib\\genericpath.py\", line 19, in exists\n",
      "    os.stat(path)\n",
      "KeyboardInterrupt\n"
     ]
    },
    {
     "ename": "KeyboardInterrupt",
     "evalue": "",
     "output_type": "error",
     "traceback": [
      "\u001b[1;31m---------------------------------------------------------------------------\u001b[0m"
     ]
    }
   ],
   "source": [
    "num_steps = 10000\n",
    "\n",
    "@tf.function(autograph=False)\n",
    "def optimization_step():\n",
    "    return - gplvm.log_marginal_likelihood()\n",
    "\n",
    "optimizer = tf.keras.optimizers.Adam()\n",
    "for i in range(num_steps):\n",
    "    optimizer.minimize(optimization_step, var_list=gplvm.trainable_variables)\n",
    "    if i % 500 == 0:\n",
    "        print('Negative log marginal likelihood at step %s: %s' % (i, -gplvm.log_marginal_likelihood().numpy()))"
   ]
  }
 ],
 "metadata": {
  "kernelspec": {
   "display_name": "Python 3",
   "language": "python",
   "name": "python3"
  },
  "language_info": {
   "codemirror_mode": {
    "name": "ipython",
    "version": 3
   },
   "file_extension": ".py",
   "mimetype": "text/x-python",
   "name": "python",
   "nbconvert_exporter": "python",
   "pygments_lexer": "ipython3",
   "version": "3.6.10"
  }
 },
 "nbformat": 4,
 "nbformat_minor": 2
}
